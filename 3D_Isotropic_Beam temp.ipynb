{
 "cells": [
  {
   "cell_type": "markdown",
   "metadata": {},
   "source": [
    "Importing Packages"
   ]
  },
  {
   "cell_type": "code",
   "execution_count": 43,
   "metadata": {
    "execution": {
     "iopub.execute_input": "2022-07-15T03:13:33.844380Z",
     "iopub.status.busy": "2022-07-15T03:13:33.844026Z",
     "iopub.status.idle": "2022-07-15T03:13:33.853719Z",
     "shell.execute_reply": "2022-07-15T03:13:33.852749Z",
     "shell.execute_reply.started": "2022-07-15T03:13:33.844343Z"
    }
   },
   "outputs": [],
   "source": [
    "import torch\n",
    "from torch.optim import Adam\n",
    "from torch.optim import LBFGS\n",
    "import torch.nn as nn\n",
    "device = torch.device('cuda' if torch.cuda.is_available() else 'cpu')\n",
    "import numpy as np\n",
    "import copy\n",
    "import matplotlib.pyplot as plt\n",
    "import seaborn as sns\n",
    "sns.set_style('darkgrid')\n",
    "\n",
    "import plotly.graph_objs as go\n",
    "from plotly.subplots import make_subplots\n",
    "from ipywidgets import widgets\n",
    "from IPython.display import display\n",
    "\n",
    "import plotly.express as px\n",
    "import dash\n",
    "from dash import Dash, dcc, html, Input, Output, State"
   ]
  },
  {
   "cell_type": "markdown",
   "metadata": {},
   "source": [
    "Helper function to create a grid"
   ]
  },
  {
   "cell_type": "code",
   "execution_count": 44,
   "metadata": {},
   "outputs": [],
   "source": [
    "def grid(x,y,z,nx,ny,nz):\n",
    "    grid_arr = list()\n",
    "    sx,sy,sz = 0,0,0\n",
    "    if (nx == 1): sx = x\n",
    "    if (ny == 1): sy = y\n",
    "    if (nz == 1): sz = z\n",
    "    xs = torch.linspace(sx,x,nx)\n",
    "    ys = torch.linspace(sy,y,ny)\n",
    "    zs = torch.linspace(sz,z,nz)\n",
    "    for x in xs:\n",
    "        for y in ys:\n",
    "            for z in zs:\n",
    "                grid_arr.append((x.item(),y.item(),z.item()))\n",
    "    grid_arr = torch.tensor(grid_arr)\n",
    "    return grid_arr"
   ]
  },
  {
   "cell_type": "markdown",
   "metadata": {},
   "source": [
    "Physical System to Model: 3D Deformation, Linear Isotropic\n",
    "\n",
    "Training tensor within region of interest"
   ]
  },
  {
   "cell_type": "code",
   "execution_count": 45,
   "metadata": {},
   "outputs": [],
   "source": [
    "# Range of x and y to be modelled\n",
    "x_range, x_int = 10, 10\n",
    "y_range, y_int = 10e-3, 3\n",
    "z_range, z_int = 10e-3, 3\n",
    "\n",
    "train = grid(x_range,y_range,z_range,x_int,y_int,z_int).requires_grad_(True).to(device)\n",
    "\n",
    "#DBC, Position and Displacment.\n",
    "# Fixing y & z in place at x = 0\n",
    "DBC_pos = grid(0,y_range,z_range,1,y_int,z_int)\n",
    "DBC_disp = grid(0,0,0,1,y_int,z_int)\n",
    "DBC_pos, DBC_disp = DBC_pos.requires_grad_(True).to(device),DBC_disp.requires_grad_(True).to(device)\n",
    "DBC = [DBC_pos,DBC_disp]\n",
    "\n",
    "#NBC, Scalar Traction Force, Normal Vector, and Position.\n",
    "T_hat = [[(6.0/((10e-3)**2),0,0)],\n",
    "         [(6.0/((10e-3)**2),0,0)],\n",
    "         [(6.0/((10e-3)**2),0,0)],\n",
    "         [(6.0/((10e-3)**2),0,0)],\n",
    "         [(6.0/((10e-3)**2),0,0)]]\n",
    "\n",
    "n_hat = [[(1.0,0,0)],\n",
    "         [(1.0,0,0)],\n",
    "         [(1.0,0,0)],\n",
    "         [(1.0,0,0)],\n",
    "         [(1.0,0,0)]]\n",
    "\n",
    "T_hat, n_hat = torch.tensor(T_hat).permute(0,2,1),torch.tensor(n_hat)\n",
    "Sigma_hat = T_hat @ n_hat\n",
    "Sigma_hat = Sigma_hat.requires_grad_(True).to(device)\n",
    "\n",
    "T_pos = [grid(5,y_range,z_range,1,y_int,z_int).requires_grad_(True).to(device)]\n",
    "T_pos.append(grid(x_range,0,z_range,x_int,1,z_int).requires_grad_(True).to(device))\n",
    "T_pos.append(grid(x_range,y_range,z_range,x_int,1,z_int).requires_grad_(True).to(device))\n",
    "T_pos.append(grid(x_range,y_range,0,x_int,y_int,1).requires_grad_(True).to(device))\n",
    "T_pos.append(grid(x_range,y_range,z_range,x_int,y_int,1).requires_grad_(True).to(device))\n",
    "\n",
    "NBC = [T_pos,Sigma_hat]\n",
    "\n",
    "# Physical Parameters, E = Youngs Modulus (Pa), v = Poisson's ratio (Typically [-1,0.5]).\n",
    "# Sclera\n",
    "p = dict(E=1.2e6, v=0.45)\n",
    "#Stiffness mat, 2D\n",
    "C_inv = [[1, -p['v'], -p['v'], 0, 0, 0],\n",
    "     [-p['v'], 1, -p['v'], 0, 0, 0],\n",
    "     [-p['v'], -p['v'], 1, 0, 0, 0],\n",
    "     [0, 0, 0, 1+p['v'], 0, 0],\n",
    "     [0, 0, 0, 0, 1+p['v'], 0],\n",
    "     [0, 0, 0, 0, 0, 1+p['v']]]\n",
    "C_inv = np.array(C_inv)\n",
    "C_inv = C_inv/p['E']\n",
    "C = np.linalg.inv(C_inv)\n",
    "C = torch.tensor(C).to(device).requires_grad_(True)"
   ]
  },
  {
   "cell_type": "markdown",
   "metadata": {},
   "source": [
    "Solution:\n",
    "\n",
    "With Force (F), Area (A), Length (L), and Elastic Modulus (E), $\\delta = \\frac{\\sigma L}{E} = \\frac{\\frac{F}{A} L}{E}$\n",
    "\n",
    "$F = 6N, A = 100mm^2, L = 10m, E = 1.2 MPa, \\delta = 0.5m$"
   ]
  },
  {
   "cell_type": "code",
   "execution_count": 46,
   "metadata": {},
   "outputs": [],
   "source": [
    "#sol"
   ]
  },
  {
   "cell_type": "markdown",
   "metadata": {},
   "source": [
    "Plotting"
   ]
  },
  {
   "cell_type": "code",
   "execution_count": 47,
   "metadata": {},
   "outputs": [],
   "source": [
    "def plot_comp():\n",
    "    plot_input = train.clone()\n",
    "    pred = model(plot_input)\n",
    "    \n",
    "    _, loss_absolute = loss_fn(model, plot_input)\n",
    "    pred_plot = pred.cpu().detach().numpy() + plot_input.cpu().detach().numpy()\n",
    "\n",
    "    plt.scatter(pred_plot[:,0].T,pred_plot[:,1].T,label='Deformed',marker='.')\n",
    "    plt.xlabel('Position')\n",
    "    plt.title(f\"Deformation, Loss: {loss_absolute:.2E}, Epoch {epoch}\")\n",
    "    plt.show()\n",
    "    plt.clf()"
   ]
  },
  {
   "cell_type": "markdown",
   "metadata": {},
   "source": [
    "Creating the Model"
   ]
  },
  {
   "cell_type": "code",
   "execution_count": 48,
   "metadata": {},
   "outputs": [
    {
     "data": {
      "text/plain": [
       "Sequential(\n",
       "  (0): Linear(in_features=3, out_features=64, bias=True)\n",
       "  (1): Linear(in_features=64, out_features=64, bias=True)\n",
       "  (2): TTanh()\n",
       "  (3): Linear(in_features=64, out_features=64, bias=True)\n",
       "  (4): TTanh()\n",
       "  (5): Linear(in_features=64, out_features=3, bias=True)\n",
       ")"
      ]
     },
     "execution_count": 48,
     "metadata": {},
     "output_type": "execute_result"
    }
   ],
   "source": [
    "# i_num nodes, i_len nodes per layer and Tanh activation fn, wide and shallow (64x4)\n",
    "i_num = 2\n",
    "i_len = 64\n",
    "#params to take and approximate\n",
    "params_in = 3\n",
    "params_out = 3\n",
    "\n",
    "# fn to create model\n",
    "def pinn(input_size, output_size, num_layers, nodes_per_layer, activation):\n",
    "    layers = []\n",
    "    \n",
    "    # Input layer\n",
    "    layers.append(nn.Linear(input_size, nodes_per_layer))\n",
    "    \n",
    "    # Hidden layers\n",
    "    for layer in range(num_layers):\n",
    "        layers.append(nn.Linear(nodes_per_layer, nodes_per_layer))\n",
    "        if layer == 0 and activation==Siren:\n",
    "            layers.append(activation(l=0))\n",
    "        else:\n",
    "            layers.append(activation())\n",
    "    \n",
    "    # Output layer\n",
    "    layers.append(nn.Linear(nodes_per_layer, output_size))\n",
    "    \n",
    "    return nn.Sequential(*layers)\n",
    "\n",
    "# custom trainable Tanh activation fn\n",
    "class TTanh(nn.Module):\n",
    "    def __init__(self, features=i_len):\n",
    "        super().__init__()\n",
    "        self.features = features\n",
    "        self.a = nn.Parameter(torch.randn(1, features))\n",
    "        \n",
    "    def forward(self, x):\n",
    "        return torch.tanh(self.a * x)\n",
    "\n",
    "#custom SIREN activation fn\n",
    "class Siren(nn.Module):\n",
    "    def __init__(self, features=i_len, l=1):\n",
    "        super(Siren, self).__init__()\n",
    "        self.features = features\n",
    "        # Learnable parameters for the phase and bias\n",
    "        if l: w = 1 \n",
    "        else: w = 30\n",
    "        n = torch.sqrt(torch.tensor(6.0/features))\n",
    "        self.a_weight = nn.Parameter((torch.rand(1, features) *2*n - n)*w)\n",
    "        self.a_bias = nn.Parameter(torch.randn(1, features))\n",
    "\n",
    "    def forward(self, x):\n",
    "        # Apply the periodic activation function\n",
    "        return torch.sin( self.a_weight*x + self.a_bias)\n",
    "\n",
    "# Model to be trained using only Adam\n",
    "model = pinn(params_in, params_out, i_num, i_len, TTanh)\n",
    "model.to(device)"
   ]
  },
  {
   "cell_type": "markdown",
   "metadata": {},
   "source": [
    "Loss Function has the following components:\n",
    "\n",
    "Physics Loss:\n",
    "\n",
    "$\\mathcal{L}_{Phy} = \\frac{1}{N}\\sum[\\frac{\\partial \\sigma_{ij}}{\\partial x_{j}}]^2$\n",
    "\n",
    "NBC Loss:\n",
    "\n",
    "$\\mathcal{L}_{NBC} = \\frac{1}{N}\\sum[\\hat{T}.n^T - \\sigma]^2$\n",
    "\n",
    "DBC Loss:\n",
    "\n",
    "$\\mathcal{L}_{DBC} = \\frac{1}{N}\\sum[u-\\hat{u}]^2$"
   ]
  },
  {
   "cell_type": "code",
   "execution_count": 56,
   "metadata": {},
   "outputs": [],
   "source": [
    "def Stress(model,input):\n",
    "    # Strain from displacement field\n",
    "    pred = model(input)\n",
    "    \n",
    "    #dux = torch.autograd.grad(pred[:,0], input, torch.ones_like(pred[:,0]), retain_graph=True, create_graph=True)[0]\n",
    "    #duy = torch.autograd.grad(pred[:,1], input, torch.ones_like(pred[:,1]), retain_graph=True, create_graph=True)[0]\n",
    "    #duz = torch.autograd.grad(pred[:,2], input, torch.ones_like(pred[:,2]), retain_graph=True, create_graph=True)[0]\n",
    "    #check jacobian\n",
    "    du = torch.autograd.grad(pred, input, torch.ones_like(pred), retain_graph=True, create_graph=True)\n",
    "    print(du)\n",
    "    \n",
    "    duxdx = dux[:,0]\n",
    "    duxdy = dux[:,1]\n",
    "    duxdz = dux[:,2]\n",
    "\n",
    "    duydx = duy[:,0]\n",
    "    duydy = duy[:,1]\n",
    "    duydz = duy[:,2]\n",
    "\n",
    "    duzdx = duz[:,0]\n",
    "    duzdy = duz[:,1]\n",
    "    duzdz = duz[:,2]\n",
    "\n",
    "    epsilon = torch.stack((duxdx, duydy, duzdz, 0.5*(duxdy + duydx), 0.5*(duxdz + duzdx), 0.5*(duydz + duzdy)))\n",
    "    \n",
    "    # Stress from Strain and Constitutive matrix\n",
    "    sigma_6xn = C @ epsilon\n",
    "\n",
    "    return sigma_6xn[0,:],sigma_6xn[1,:],sigma_6xn[2,:],sigma_6xn[3,:],sigma_6xn[4,:],sigma_6xn[5,:]"
   ]
  },
  {
   "cell_type": "code",
   "execution_count": 50,
   "metadata": {},
   "outputs": [],
   "source": [
    "def loss_fn(model, batch):\n",
    "    # model: model\n",
    "    # batch: training batch\n",
    "\n",
    "    # Calulate loss from DBC\n",
    "    DBC_loss = ((model(DBC[0])-DBC[1])**2).mean()\n",
    "\n",
    "\n",
    "    #Calculating NBC Loss\n",
    "    NBC_loss = 0\n",
    "    for i in range(len(NBC[0])):\n",
    "        sxx_NBC,syy_NBC,szz_NBC,sxy_NBC,sxz_NBC,syz_NBC = Stress(model,NBC[0][i])\n",
    "        syx_NBC,szx_NBC,szy_NBC = sxy_NBC.clone(),sxz_NBC.clone(),syz_NBC.clone()\n",
    "\n",
    "        sigma_1x3_x_NBC = torch.stack((sxx_NBC,syx_NBC,szx_NBC), dim=1)\n",
    "        sigma_1x3_y_NBC = torch.stack((sxy_NBC,syy_NBC,szy_NBC), dim=1)\n",
    "        sigma_1x3_z_NBC = torch.stack((sxz_NBC,syz_NBC,szz_NBC), dim=1)\n",
    "        sigma_3x3_NBC = torch.stack((sigma_1x3_x_NBC, sigma_1x3_y_NBC, sigma_1x3_z_NBC), dim=1)\n",
    "\n",
    "        #NBC Loss\n",
    "        NBC_loss += ((sigma_3x3_NBC - NBC[1][i])**2)\n",
    "\n",
    "    NBC_loss = NBC_loss.mean()\n",
    "\n",
    "\n",
    "    #Physics Loss\n",
    "    #Stress\n",
    "    sxx_phy,syy_phy,szz_phy,sxy_phy,sxz_phy,syz_phy = Stress(model,batch)\n",
    "\n",
    "    #Divergence of Stress\n",
    "    dsxx = torch.autograd.grad(sxx_phy, batch, torch.ones_like(sxx_phy), retain_graph=True, create_graph=True)[0]\n",
    "    dsyy = torch.autograd.grad(syy_phy, batch, torch.ones_like(syy_phy), retain_graph=True, create_graph=True)[0]\n",
    "    dszz = torch.autograd.grad(szz_phy, batch, torch.ones_like(szz_phy), retain_graph=True, create_graph=True)[0]\n",
    "\n",
    "    dsxy = torch.autograd.grad(sxy_phy, batch, torch.ones_like(sxy_phy), retain_graph=True, create_graph=True)[0]\n",
    "    dsxz = torch.autograd.grad(sxz_phy, batch, torch.ones_like(sxz_phy), retain_graph=True, create_graph=True)[0]\n",
    "    dsyz = torch.autograd.grad(syz_phy, batch, torch.ones_like(syz_phy), retain_graph=True, create_graph=True)[0]\n",
    "\n",
    "    dsxxdx = dsxx[:,0]\n",
    "    dsyydy = dsyy[:,1]\n",
    "    dszzdz = dszz[:,2]\n",
    "\n",
    "    dsxydx = dsxy[:,0]\n",
    "    dsxydy = dsxy[:,1]\n",
    "\n",
    "    dsxzdx = dsxz[:,0]\n",
    "    dsxzdz = dsxz[:,2]\n",
    "\n",
    "    dsyzdy = dsyz[:,1]\n",
    "    dsyzdz = dsyz[:,2]\n",
    "\n",
    "    div_stress = torch.stack((dsxxdx + dsxydy + dsxzdz,\n",
    "                              dsxydx + dsyydy + dsyzdz,\n",
    "                              dsxzdx + dsyzdy + dszzdz), dim=0)\n",
    "    \n",
    "    phy_loss = ((div_stress)**2).mean()\n",
    "\n",
    "\n",
    "    # calculate weighted loss\n",
    "    DBC_loss_weighted,NBC_loss_weighted = DBC_loss*DBC_weight , NBC_loss*NBC_weight\n",
    "\n",
    "    obtain_grads([DBC_loss_weighted, NBC_loss_weighted, phy_loss])\n",
    "\n",
    "    loss_weighted = DBC_loss_weighted + NBC_loss_weighted + phy_loss\n",
    "    loss_absolute = DBC_loss + NBC_loss + phy_loss\n",
    "\n",
    "    return loss_weighted, loss_absolute"
   ]
  },
  {
   "cell_type": "markdown",
   "metadata": {},
   "source": [
    "Loss weights are dynamically updated using:\n",
    "\n",
    "$\\hat{\\lambda}^{(n)}_{ic} = \\frac{max \\{| {\\nabla_{\\theta}} \\mathcal{L}_{physics} |\\} } {| \\overline{ {\\nabla_{\\theta}} \\mathcal{L}_{ic} } |} $\n",
    "or\n",
    "$ \\frac{std \\{ {\\nabla_{\\theta}} \\mathcal{L}_{physics} \\} } {std \\{ {\\nabla_{\\theta}} \\mathcal{L}_{ic} \\} } $\n",
    "or\n",
    "$\\frac{|| {\\nabla_{\\theta}} \\mathcal{L}_{physics} ||_{2} } {|| {\\nabla_{\\theta}} \\mathcal{L}_{ic} ||_{2} } $\n",
    "\n",
    "$\\lambda^{(n)}_{ic} = \\alpha \\lambda^{(n-1)}_{ic} + (1 - \\alpha) \\hat{\\lambda}^{(n)}_{ic}  $"
   ]
  },
  {
   "cell_type": "code",
   "execution_count": 51,
   "metadata": {},
   "outputs": [],
   "source": [
    "phy_grads, NBC_grads, DBC_grads = list(), list(), list()\n",
    "list_of_grads = [DBC_grads, NBC_grads, phy_grads]\n",
    "list_of_losses = list()\n",
    "NBC_weight, DBC_weight = 1.0, 1.0\n",
    "\n",
    "def weight_update_max_mean(w_update, a=0.9):\n",
    "    phy_loss_max = torch.max(torch.abs(torch.stack(phy_grads[-w_update:])))\n",
    "    \n",
    "    NBC_loss_mean = torch.mean(torch.abs(torch.stack(NBC_grads[-w_update:])))\n",
    "    NBC_weight_hat = (phy_loss_max / NBC_loss_mean).item()\n",
    "    new_NBC_weight = (1-a)*NBC_weight + a*NBC_weight_hat\n",
    "\n",
    "    DBC_loss_mean = torch.mean(torch.abs(torch.stack(DBC_grads[-w_update:])))\n",
    "    DBC_weight_hat = (phy_loss_max / DBC_loss_mean).item()\n",
    "    new_DBC_weight = (1-a)*DBC_weight + a*DBC_weight_hat\n",
    "\n",
    "    return new_NBC_weight, new_DBC_weight\n",
    "\n",
    "def weight_update_std(w_update, a=0.9):\n",
    "    phy_loss_std = torch.std(torch.stack(phy_grads[-w_update:]))\n",
    "\n",
    "    NBC_loss_std = torch.std(torch.stack(NBC_grads[-w_update:]))\n",
    "    NBC_weight_hat = (phy_loss_std / NBC_loss_std).item()\n",
    "    new_NBC_weight = (1-a)*NBC_weight + a*NBC_weight_hat\n",
    "\n",
    "    DBC_loss_std = torch.std(torch.stack(DBC_grads[-w_update:]))\n",
    "    DBC_weight_hat = (phy_loss_std / DBC_loss_std).item()\n",
    "    new_DBC_weight = (1-a)*DBC_weight + a*DBC_weight_hat\n",
    "\n",
    "    return new_NBC_weight, new_DBC_weight\n",
    "\n",
    "def weight_update_norm(w_update, a=0.9):\n",
    "    phy_loss_norm = torch.linalg.matrix_norm(torch.stack(phy_grads[-w_update:]))\n",
    "    \n",
    "    NBC_loss_norm = torch.linalg.matrix_norm(torch.stack(NBC_grads[-w_update:]))\n",
    "    NBC_weight_hat = (phy_loss_norm / NBC_loss_norm).item()\n",
    "    new_NBC_weight = (1-a)*NBC_weight + a*NBC_weight_hat\n",
    "\n",
    "    DBC_loss_norm = torch.linalg.matrix_norm(torch.stack(DBC_grads[-w_update:]))\n",
    "    DBC_weight_hat = (phy_loss_norm / DBC_loss_norm).item()\n",
    "    new_DBC_weight = (1-a)*DBC_weight + a*DBC_weight_hat\n",
    "\n",
    "    return new_NBC_weight, new_DBC_weight\n",
    "\n",
    "def obtain_grads(losses):\n",
    "\n",
    "    for i in range(len(list_of_grads)):\n",
    "        optim.zero_grad()\n",
    "        losses[i].backward(retain_graph=True)\n",
    "        temp = list()\n",
    "        for name, param in model.named_parameters():\n",
    "            if param.grad is not None:\n",
    "                temp.append(torch.reshape(param.grad,(-1,)))\n",
    "        list_of_grads[i].append(torch.cat(temp))\n",
    "\n",
    "    list_of_losses.append([losses[0].item(),losses[1].item(),losses[2].item()])\n",
    "        \n",
    "    return"
   ]
  },
  {
   "cell_type": "markdown",
   "metadata": {},
   "source": [
    "Checkpoint During Training"
   ]
  },
  {
   "cell_type": "code",
   "execution_count": 52,
   "metadata": {},
   "outputs": [],
   "source": [
    "best_model_adam = {'epoch':-1}\n",
    "best_model_LBFGS = {'epoch':-1}\n",
    "best_model = {'epoch':-1}\n",
    "\n",
    "def checkpoint(best_model):\n",
    "    if (best_model['epoch'] == -1) or (prev_loss[-1] < best_model['loss']):\n",
    "        best_model = {\n",
    "            'epoch': epoch,\n",
    "            'model_state_dict': copy.deepcopy(copy.deepcopy(model.state_dict())),\n",
    "            'optimizer_state_dict': copy.deepcopy(copy.deepcopy(optim.state_dict())),\n",
    "            'loss': prev_loss[-1],\n",
    "            'model_params':[params_in, params_out, i_num, i_len]\n",
    "                    }\n",
    "    return best_model\n",
    "\n",
    "def final(model):\n",
    "    model = {\n",
    "        'epoch': epoch,\n",
    "        'model_state_dict': copy.deepcopy(copy.deepcopy(model.state_dict())),\n",
    "        'optimizer_state_dict': copy.deepcopy(copy.deepcopy(optim.state_dict())),\n",
    "        'loss': prev_loss[-1],\n",
    "        'model_params':[params_in, params_out, i_num, i_len]\n",
    "                }\n",
    "    return model"
   ]
  },
  {
   "cell_type": "markdown",
   "metadata": {},
   "source": [
    "Plot Training Data"
   ]
  },
  {
   "cell_type": "code",
   "execution_count": 53,
   "metadata": {},
   "outputs": [],
   "source": [
    "def plot_train(t=\"\"):\n",
    "    plt.plot(np.log10(prev_loss),c='tab:blue',label='Log Loss')\n",
    "    plt.title(f\"Log Loss over {len(prev_loss)} Calls\"+t)\n",
    "    plt.xlabel(\"Calls\")\n",
    "    plt.ylabel(\"Log Loss\")\n",
    "    plt.show()\n",
    "    plt.clf()\n",
    "\n",
    "    plt.plot(torch.log10(torch.mean(torch.abs(torch.stack(phy_grads,1)),0)).cpu(),label='log mean phy loss grad',c='tab:green')\n",
    "    plt.title(f\"Gradient of parameters wrt Physics Loss over {len(prev_loss)} Calls\"+t)\n",
    "    plt.xlabel(\"Loss Computations\")\n",
    "    plt.ylabel(\"Log Mean gradients for model parameters\")\n",
    "    plt.legend()\n",
    "    plt.show()\n",
    "    plt.clf()\n",
    "\n",
    "    plt.plot(torch.log10(torch.mean(torch.abs(torch.stack(NBC_grads,1)),0)).cpu(),label='log mean NBC loss grad',c='tab:orange')\n",
    "    plt.title(f\"Gradient of parameters wrt NBC Loss over {len(prev_loss)} Calls\"+t)\n",
    "    plt.xlabel(\"Loss Computations\")\n",
    "    plt.ylabel(\"Log Mean gradients for model parameters\")\n",
    "    plt.legend()\n",
    "    plt.show()\n",
    "    plt.clf()\n",
    "\n",
    "    plt.plot(torch.log10(torch.mean(torch.abs(torch.stack(DBC_grads,1)),0)).cpu(),label='log mean DBC loss grad',c='tab:red')\n",
    "    plt.title(f\"Gradient of parameters wrt DBC Loss over {len(prev_loss)} Calls\"+t)\n",
    "    plt.xlabel(\"Loss Computations\")\n",
    "    plt.ylabel(\"Log Mean gradients for model parameters\")\n",
    "    plt.legend()\n",
    "    plt.show()\n",
    "    plt.clf()"
   ]
  },
  {
   "cell_type": "markdown",
   "metadata": {},
   "source": [
    "Closure Fn for Optimisers"
   ]
  },
  {
   "cell_type": "code",
   "execution_count": 54,
   "metadata": {},
   "outputs": [],
   "source": [
    "def closure():\n",
    "    loss_weighted, loss_absolute = loss_fn(model, train)\n",
    "    optim.zero_grad()\n",
    "    loss_weighted.backward()\n",
    "    prev_loss.append(loss_absolute.item())\n",
    "    return loss_weighted"
   ]
  },
  {
   "cell_type": "markdown",
   "metadata": {},
   "source": [
    "Training the model"
   ]
  },
  {
   "cell_type": "code",
   "execution_count": 55,
   "metadata": {},
   "outputs": [
    {
     "name": "stdout",
     "output_type": "stream",
     "text": [
      "tensor([[-0.0236, -0.0019, -0.0272],\n",
      "        [-0.0236, -0.0018, -0.0271],\n",
      "        [-0.0236, -0.0018, -0.0269],\n",
      "        [-0.0236, -0.0020, -0.0271],\n",
      "        [-0.0236, -0.0019, -0.0270],\n",
      "        [-0.0237, -0.0019, -0.0269],\n",
      "        [-0.0236, -0.0021, -0.0271],\n",
      "        [-0.0237, -0.0020, -0.0270],\n",
      "        [-0.0237, -0.0020, -0.0268]], grad_fn=<MmBackward0>)\n"
     ]
    },
    {
     "ename": "NameError",
     "evalue": "name 'dux' is not defined",
     "output_type": "error",
     "traceback": [
      "\u001b[1;31m---------------------------------------------------------------------------\u001b[0m",
      "\u001b[1;31mNameError\u001b[0m                                 Traceback (most recent call last)",
      "Cell \u001b[1;32mIn[55], line 13\u001b[0m\n\u001b[0;32m     10\u001b[0m optim \u001b[38;5;241m=\u001b[39m Adam(model\u001b[38;5;241m.\u001b[39mparameters())\n\u001b[0;32m     11\u001b[0m \u001b[38;5;28;01mfor\u001b[39;00m epoch \u001b[38;5;129;01min\u001b[39;00m \u001b[38;5;28mrange\u001b[39m(n_epochs[\u001b[38;5;241m0\u001b[39m]):\n\u001b[1;32m---> 13\u001b[0m     \u001b[43moptim\u001b[49m\u001b[38;5;241;43m.\u001b[39;49m\u001b[43mstep\u001b[49m\u001b[43m(\u001b[49m\u001b[43mclosure\u001b[49m\u001b[43m)\u001b[49m\n\u001b[0;32m     14\u001b[0m     best_model_adam \u001b[38;5;241m=\u001b[39m checkpoint(best_model_adam)\n\u001b[0;32m     15\u001b[0m     best_model \u001b[38;5;241m=\u001b[39m checkpoint(best_model)\n",
      "File \u001b[1;32mc:\\Users\\roshe\\anaconda3\\lib\\site-packages\\torch\\optim\\optimizer.py:113\u001b[0m, in \u001b[0;36mOptimizer._hook_for_profile.<locals>.profile_hook_step.<locals>.wrapper\u001b[1;34m(*args, **kwargs)\u001b[0m\n\u001b[0;32m    111\u001b[0m profile_name \u001b[38;5;241m=\u001b[39m \u001b[38;5;124m\"\u001b[39m\u001b[38;5;124mOptimizer.step#\u001b[39m\u001b[38;5;132;01m{}\u001b[39;00m\u001b[38;5;124m.step\u001b[39m\u001b[38;5;124m\"\u001b[39m\u001b[38;5;241m.\u001b[39mformat(obj\u001b[38;5;241m.\u001b[39m\u001b[38;5;18m__class__\u001b[39m\u001b[38;5;241m.\u001b[39m\u001b[38;5;18m__name__\u001b[39m)\n\u001b[0;32m    112\u001b[0m \u001b[38;5;28;01mwith\u001b[39;00m torch\u001b[38;5;241m.\u001b[39mautograd\u001b[38;5;241m.\u001b[39mprofiler\u001b[38;5;241m.\u001b[39mrecord_function(profile_name):\n\u001b[1;32m--> 113\u001b[0m     \u001b[38;5;28;01mreturn\u001b[39;00m func(\u001b[38;5;241m*\u001b[39margs, \u001b[38;5;241m*\u001b[39m\u001b[38;5;241m*\u001b[39mkwargs)\n",
      "File \u001b[1;32mc:\\Users\\roshe\\anaconda3\\lib\\site-packages\\torch\\autograd\\grad_mode.py:27\u001b[0m, in \u001b[0;36m_DecoratorContextManager.__call__.<locals>.decorate_context\u001b[1;34m(*args, **kwargs)\u001b[0m\n\u001b[0;32m     24\u001b[0m \u001b[38;5;129m@functools\u001b[39m\u001b[38;5;241m.\u001b[39mwraps(func)\n\u001b[0;32m     25\u001b[0m \u001b[38;5;28;01mdef\u001b[39;00m \u001b[38;5;21mdecorate_context\u001b[39m(\u001b[38;5;241m*\u001b[39margs, \u001b[38;5;241m*\u001b[39m\u001b[38;5;241m*\u001b[39mkwargs):\n\u001b[0;32m     26\u001b[0m     \u001b[38;5;28;01mwith\u001b[39;00m \u001b[38;5;28mself\u001b[39m\u001b[38;5;241m.\u001b[39mclone():\n\u001b[1;32m---> 27\u001b[0m         \u001b[38;5;28;01mreturn\u001b[39;00m func(\u001b[38;5;241m*\u001b[39margs, \u001b[38;5;241m*\u001b[39m\u001b[38;5;241m*\u001b[39mkwargs)\n",
      "File \u001b[1;32mc:\\Users\\roshe\\anaconda3\\lib\\site-packages\\torch\\optim\\adam.py:118\u001b[0m, in \u001b[0;36mAdam.step\u001b[1;34m(self, closure)\u001b[0m\n\u001b[0;32m    116\u001b[0m \u001b[38;5;28;01mif\u001b[39;00m closure \u001b[38;5;129;01mis\u001b[39;00m \u001b[38;5;129;01mnot\u001b[39;00m \u001b[38;5;28;01mNone\u001b[39;00m:\n\u001b[0;32m    117\u001b[0m     \u001b[38;5;28;01mwith\u001b[39;00m torch\u001b[38;5;241m.\u001b[39menable_grad():\n\u001b[1;32m--> 118\u001b[0m         loss \u001b[38;5;241m=\u001b[39m \u001b[43mclosure\u001b[49m\u001b[43m(\u001b[49m\u001b[43m)\u001b[49m\n\u001b[0;32m    120\u001b[0m \u001b[38;5;28;01mfor\u001b[39;00m group \u001b[38;5;129;01min\u001b[39;00m \u001b[38;5;28mself\u001b[39m\u001b[38;5;241m.\u001b[39mparam_groups:\n\u001b[0;32m    121\u001b[0m     params_with_grad \u001b[38;5;241m=\u001b[39m []\n",
      "Cell \u001b[1;32mIn[54], line 2\u001b[0m, in \u001b[0;36mclosure\u001b[1;34m()\u001b[0m\n\u001b[0;32m      1\u001b[0m \u001b[38;5;28;01mdef\u001b[39;00m \u001b[38;5;21mclosure\u001b[39m():\n\u001b[1;32m----> 2\u001b[0m     loss_weighted, loss_absolute \u001b[38;5;241m=\u001b[39m \u001b[43mloss_fn\u001b[49m\u001b[43m(\u001b[49m\u001b[43mmodel\u001b[49m\u001b[43m,\u001b[49m\u001b[43m \u001b[49m\u001b[43mtrain\u001b[49m\u001b[43m)\u001b[49m\n\u001b[0;32m      3\u001b[0m     optim\u001b[38;5;241m.\u001b[39mzero_grad()\n\u001b[0;32m      4\u001b[0m     loss_weighted\u001b[38;5;241m.\u001b[39mbackward()\n",
      "Cell \u001b[1;32mIn[50], line 12\u001b[0m, in \u001b[0;36mloss_fn\u001b[1;34m(model, batch)\u001b[0m\n\u001b[0;32m     10\u001b[0m NBC_loss \u001b[38;5;241m=\u001b[39m \u001b[38;5;241m0\u001b[39m\n\u001b[0;32m     11\u001b[0m \u001b[38;5;28;01mfor\u001b[39;00m i \u001b[38;5;129;01min\u001b[39;00m \u001b[38;5;28mrange\u001b[39m(\u001b[38;5;28mlen\u001b[39m(NBC[\u001b[38;5;241m0\u001b[39m])):\n\u001b[1;32m---> 12\u001b[0m     sxx_NBC,syy_NBC,szz_NBC,sxy_NBC,sxz_NBC,syz_NBC \u001b[38;5;241m=\u001b[39m \u001b[43mStress\u001b[49m\u001b[43m(\u001b[49m\u001b[43mmodel\u001b[49m\u001b[43m,\u001b[49m\u001b[43mNBC\u001b[49m\u001b[43m[\u001b[49m\u001b[38;5;241;43m0\u001b[39;49m\u001b[43m]\u001b[49m\u001b[43m[\u001b[49m\u001b[43mi\u001b[49m\u001b[43m]\u001b[49m\u001b[43m)\u001b[49m\n\u001b[0;32m     13\u001b[0m     syx_NBC,szx_NBC,szy_NBC \u001b[38;5;241m=\u001b[39m sxy_NBC\u001b[38;5;241m.\u001b[39mclone(),sxz_NBC\u001b[38;5;241m.\u001b[39mclone(),syz_NBC\u001b[38;5;241m.\u001b[39mclone()\n\u001b[0;32m     15\u001b[0m     sigma_1x3_x_NBC \u001b[38;5;241m=\u001b[39m torch\u001b[38;5;241m.\u001b[39mstack((sxx_NBC,syx_NBC,szx_NBC), dim\u001b[38;5;241m=\u001b[39m\u001b[38;5;241m1\u001b[39m)\n",
      "Cell \u001b[1;32mIn[49], line 9\u001b[0m, in \u001b[0;36mStress\u001b[1;34m(model, input)\u001b[0m\n\u001b[0;32m      6\u001b[0m du \u001b[38;5;241m=\u001b[39m torch\u001b[38;5;241m.\u001b[39mautograd\u001b[38;5;241m.\u001b[39mgrad(pred, \u001b[38;5;28minput\u001b[39m, torch\u001b[38;5;241m.\u001b[39mones_like(pred), retain_graph\u001b[38;5;241m=\u001b[39m\u001b[38;5;28;01mTrue\u001b[39;00m, create_graph\u001b[38;5;241m=\u001b[39m\u001b[38;5;28;01mTrue\u001b[39;00m)[\u001b[38;5;241m0\u001b[39m]\n\u001b[0;32m      7\u001b[0m \u001b[38;5;28mprint\u001b[39m(du)\n\u001b[1;32m----> 9\u001b[0m duxdx \u001b[38;5;241m=\u001b[39m \u001b[43mdux\u001b[49m[:,\u001b[38;5;241m0\u001b[39m]\n\u001b[0;32m     10\u001b[0m duxdy \u001b[38;5;241m=\u001b[39m dux[:,\u001b[38;5;241m1\u001b[39m]\n\u001b[0;32m     11\u001b[0m duxdz \u001b[38;5;241m=\u001b[39m dux[:,\u001b[38;5;241m2\u001b[39m]\n",
      "\u001b[1;31mNameError\u001b[0m: name 'dux' is not defined"
     ]
    }
   ],
   "source": [
    "# train\n",
    "n_epochs = (10000,1000)\n",
    "w_update = 1\n",
    "epochs = 0\n",
    "prev_loss = list()\n",
    "training = True\n",
    "\n",
    "while (training):\n",
    "    # start with Adam optimizer\n",
    "    optim = Adam(model.parameters())\n",
    "    for epoch in range(n_epochs[0]):\n",
    "        \n",
    "        optim.step(closure)\n",
    "        best_model_adam = checkpoint(best_model_adam)\n",
    "        best_model = checkpoint(best_model)\n",
    "\n",
    "        #if not (epoch%w_update): NBC_weight , DBC_weight = weight_update_max_mean(w_update)\n",
    "        if not (epoch%1000): print(f'Finished epoch {epochs+epoch}, latest loss {prev_loss[-1]:.2E}')\n",
    "    \n",
    "    final_model_adam = final(model)\n",
    "    plot_train(\" with Adam\")\n",
    "    epochs += n_epochs[0]\n",
    "\n",
    "    # continue with LBFGS\n",
    "    optim = LBFGS(model.parameters())\n",
    "    for epoch in range(n_epochs[1]):\n",
    "        optim.step(closure)\n",
    "\n",
    "        # reset if loss becomes NAN\n",
    "        if np.isnan(prev_loss[-1]):\n",
    "            optim = LBFGS(model.parameters())\n",
    "            model.load_state_dict(best_model_LBFGS['model_state_dict'])\n",
    "            optim.load_state_dict(best_model_LBFGS['optimizer_state_dict'])\n",
    "            loss = best_model_LBFGS['loss']\n",
    "\n",
    "        best_model_LBFGS = checkpoint(best_model_LBFGS)\n",
    "        best_model = checkpoint(best_model)\n",
    "\n",
    "        #if not (epoch%w_update): NBC_weight , DBC_weight = weight_update_max_mean(w_update)\n",
    "        if not (epoch%100): print(f'Finished epoch {epochs+epoch}, latest loss {prev_loss[-1]:.2E}')\n",
    "    \n",
    "    final_model_LBGFS = final(model)\n",
    "    plot_train(\" with LBGFS\")\n",
    "    epochs += n_epochs[1]\n",
    "\n",
    "\n",
    "    # User determines if training should continue\n",
    "    user_input = input(\"Enter epochs to continue training (Adam LBGFS) or 0 to stop:\")\n",
    "    try:\n",
    "        n_epochs = tuple(int(item) for item in user_input.split())\n",
    "        print(n_epochs)\n",
    "    except:\n",
    "        print(\"Error\")\n",
    "        n_epochs = (0,0)\n",
    "    if len(n_epochs) != 2: training = False"
   ]
  },
  {
   "cell_type": "markdown",
   "metadata": {},
   "source": [
    "Plotting best model"
   ]
  },
  {
   "cell_type": "code",
   "execution_count": null,
   "metadata": {},
   "outputs": [
    {
     "data": {
      "image/png": "[encoded data removed]",
      "text/plain": [
       "<Figure size 640x480 with 1 Axes>"
      ]
     },
     "metadata": {},
     "output_type": "display_data"
    },
    {
     "data": {
      "image/png": "[encoded data removed]",
      "text/plain": [
       "<Figure size 640x480 with 1 Axes>"
      ]
     },
     "metadata": {},
     "output_type": "display_data"
    },
    {
     "data": {
      "image/png": "[encoded data removed]",
      "text/plain": [
       "<Figure size 640x480 with 1 Axes>"
      ]
     },
     "metadata": {},
     "output_type": "display_data"
    },
    {
     "data": {
      "text/plain": [
       "<Figure size 640x480 with 0 Axes>"
      ]
     },
     "metadata": {},
     "output_type": "display_data"
    }
   ],
   "source": [
    "model.load_state_dict(best_model['model_state_dict'])\n",
    "optim.load_state_dict(best_model['optimizer_state_dict'])\n",
    "epoch = best_model['epoch']\n",
    "loss = best_model['loss']\n",
    "model.eval()\n",
    "plot_comp()\n",
    "\n",
    "model.load_state_dict(final_model_adam['model_state_dict'])\n",
    "optim.load_state_dict(final_model_adam['optimizer_state_dict'])\n",
    "epoch = final_model_adam['epoch']\n",
    "loss = final_model_adam['loss']\n",
    "model.eval()\n",
    "plot_comp()\n",
    "\n",
    "model.load_state_dict(final_model_LBGFS['model_state_dict'])\n",
    "optim.load_state_dict(final_model_LBGFS['optimizer_state_dict'])\n",
    "epoch = final_model_LBGFS['epoch']\n",
    "loss = final_model_LBGFS['loss']\n",
    "model.eval()\n",
    "plot_comp()"
   ]
  },
  {
   "cell_type": "markdown",
   "metadata": {},
   "source": [
    "Saving Best Model"
   ]
  },
  {
   "cell_type": "code",
   "execution_count": null,
   "metadata": {},
   "outputs": [],
   "source": [
    "#PATH = f\"3D_Isotropic_Beam_Model_{loss:.2E}_{epoch}.tar\"\n",
    "#torch.save(best_model, PATH)"
   ]
  },
  {
   "cell_type": "markdown",
   "metadata": {},
   "source": [
    "Load Model"
   ]
  },
  {
   "cell_type": "code",
   "execution_count": null,
   "metadata": {},
   "outputs": [],
   "source": [
    "#PATH = \"3D_Isotropic_Beam_Model_6.66E+00_999.tar\"\n",
    "\n",
    "#prevpoint = torch.load(PATH, map_location=device)\n",
    "#model.load_state_dict(prevpoint['model_state_dict'])\n",
    "#optim.load_state_dict(prevpoint['optimizer_state_dict'])\n",
    "#epoch = prevpoint['epoch']\n",
    "#loss = prevpoint['loss']\n",
    "#model = model.to(device)\n",
    "#model.eval()\n",
    "#model.train()"
   ]
  },
  {
   "cell_type": "markdown",
   "metadata": {},
   "source": [
    "Ploty and Dash Animaton"
   ]
  },
  {
   "cell_type": "code",
   "execution_count": null,
   "metadata": {},
   "outputs": [
    {
     "data": {
      "text/html": [
       "\n",
       "        <iframe\n",
       "            width=\"100%\"\n",
       "            height=\"650\"\n",
       "            src=\"http://127.0.0.1:8050/\"\n",
       "            frameborder=\"0\"\n",
       "            allowfullscreen\n",
       "            \n",
       "        ></iframe>\n",
       "        "
      ],
      "text/plain": [
       "<IPython.lib.display.IFrame at 0x2158b3da5d0>"
      ]
     },
     "metadata": {},
     "output_type": "display_data"
    }
   ],
   "source": [
    "# obtaining plot range\n",
    "x_range, x_int = 10, 10\n",
    "y_range, y_int = 10e-3, 3\n",
    "z_range, z_int = 10e-3, 3\n",
    "\n",
    "plotting = grid(x_range,y_range,z_range,x_int,y_int,z_int).requires_grad_(True).to(device)\n",
    "max_disp = 0\n",
    "\n",
    "# obtaining plot data\n",
    "model_pred = list()\n",
    "for i in range(len(plotting)):\n",
    "    #x,y,z,dx,dy,dz\n",
    "    pred = model(plotting[i])\n",
    "    model_pred.append([plotting[i][0].item(), plotting[i][1].item(), plotting[i][2].item(), pred[:,0].item(), pred[:,1].item(), pred[:,2].item()])\n",
    "    if (np.sqrt(pred[:,0].item()**2 + pred[:,1].item()**2 + pred[:,2].item()**2) > max_disp): max_disp = np.sqrt(pred[:,0].item()**2 + pred[:,1].item()**2 + pred[:,2].item()**2)\n",
    "model_pred = np.array(model_pred)\n",
    "\n",
    "#setting limits\n",
    "init = model_pred[:,0:3]\n",
    "disp = model_pred[:,0:3] + model_pred[:,3:]\n",
    "buffer = 0.4\n",
    "\n",
    "init_scatter = go.Scatter3d(\n",
    "    x=model_pred[:, 0],\n",
    "    y=model_pred[:, 1],\n",
    "    z=model_pred[:, 2],\n",
    "    mode='markers',\n",
    "    marker=dict(\n",
    "        size=3,\n",
    "        colorscale='RdYlGn_r',\n",
    "        color=np.zeros(len(model_pred[:, 0])),\n",
    "        cmin=0,\n",
    "        cmax=1,\n",
    "        colorbar=dict(title='Normalized Displacement'),\n",
    "    )\n",
    ")\n",
    "\n",
    "# Create init scatter\n",
    "fig = go.Figure(data=[init_scatter])\n",
    "\n",
    "# Create a Dash app\n",
    "app = dash.Dash(__name__)\n",
    "\n",
    "# Define the app layout\n",
    "app.layout = html.Div([\n",
    "    html.H1('Displacement Animation', style={'color': 'white'}),\n",
    "    \n",
    "    dcc.Graph(id='scatter-plot', figure=fig),\n",
    "    \n",
    "    dcc.Slider(\n",
    "        id=\"frame-slider\",\n",
    "        min=0,\n",
    "        max=100,\n",
    "        step=0.1,\n",
    "        value=0,\n",
    "        marks={i: str(i) for i in range(0, 101, 10)},\n",
    "        tooltip={\"placement\": \"bottom\"},\n",
    "        updatemode='drag'\n",
    "    )\n",
    "])\n",
    "\n",
    "# Callback to update the scatter plot\n",
    "@app.callback(\n",
    "    Output('scatter-plot', 'figure'),\n",
    "    [Input('frame-slider', 'value')]\n",
    ")\n",
    "\n",
    "def update_scatter_plot(frame):\n",
    "    # Update only the color data of the scatter plot\n",
    "    fig.data[0].x = model_pred[:, 0] + frame * model_pred[:, 3] / 100\n",
    "    fig.data[0].y =model_pred[:, 1] + frame * model_pred[:, 4] / 100\n",
    "    fig.data[0].z =model_pred[:, 2] + frame * model_pred[:, 5] / 100\n",
    "    fig.data[0].marker.color = np.sqrt(model_pred[:, 3]**2 + model_pred[:, 4]**2 + model_pred[:, 5]**2) * frame / max_disp / 100\n",
    "    fig.update_layout(\n",
    "        scene=dict(\n",
    "            xaxis=dict(range=[np.min(np.vstack([init, disp])) - buffer, np.max(np.vstack([init, disp])) + buffer]),\n",
    "            yaxis=dict(range=[np.min(np.vstack([init, disp])) - buffer, np.max(np.vstack([init, disp])) + buffer]),\n",
    "            zaxis=dict(range=[np.min(np.vstack([init, disp])) - buffer, np.max(np.vstack([init, disp])) + buffer]),\n",
    "        ),\n",
    "        autosize=False,\n",
    "        width=800,\n",
    "        height=600,\n",
    "        uirevision='locked',\n",
    "    )\n",
    "    \n",
    "    return fig\n",
    "\n",
    "if __name__ == '__main__':\n",
    "    app.run_server(debug=True)"
   ]
  }
 ],
 "metadata": {
  "kernelspec": {
   "display_name": "Python 3 (ipykernel)",
   "language": "python",
   "name": "python3"
  },
  "language_info": {
   "codemirror_mode": {
    "name": "ipython",
    "version": 3
   },
   "file_extension": ".py",
   "mimetype": "text/x-python",
   "name": "python",
   "nbconvert_exporter": "python",
   "pygments_lexer": "ipython3",
   "version": "3.10.11"
  },
  "vscode": {
   "interpreter": {
    "hash": "b2bb01db43c92608afe528117be8348869a8bbfc2e823dee3781b388bf5fc44d"
   }
  }
 },
 "nbformat": 4,
 "nbformat_minor": 4
}
